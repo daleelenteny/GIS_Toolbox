{
 "cells": [
  {
   "cell_type": "code",
   "execution_count": 65,
   "metadata": {},
   "outputs": [],
   "source": [
    "def select_feature_by_attribute(feature_class, field, value): \n",
    "    \n",
    "    # Construct SQL \n",
    "    sql = f\"{field} = '{focus_point_name}'\"\n",
    "\n",
    "    # Apply attribute selection \n",
    "    selection, count = arcpy.management.SelectLayerByAttribute(feature_class, 'NEW_SELECTION', sql)\n",
    "        \n",
    "    return selection "
   ]
  },
  {
   "cell_type": "code",
   "execution_count": 57,
   "metadata": {},
   "outputs": [],
   "source": [
    "'''\n",
    "Parameters\n",
    "'''\n",
    "\n",
    "feature_class = r'C:\\DALE\\Personal\\Minnesota\\MyProject\\ACS.gdb\\Focus_Points'\n",
    "field         = 'NAME'\n",
    "value         = 'Wilder'"
   ]
  },
  {
   "cell_type": "code",
   "execution_count": 66,
   "metadata": {},
   "outputs": [],
   "source": [
    "'''\n",
    "Run \n",
    "'''\n",
    "\n",
    "selection = select_feature_by_attribute(feature_class, field, value)"
   ]
  }
 ],
 "metadata": {
  "kernelspec": {
   "display_name": "ArcGISPro",
   "language": "Python",
   "name": "python3"
  },
  "language_info": {
   "file_extension": ".py",
   "name": "python",
   "version": "3"
  }
 },
 "nbformat": 4,
 "nbformat_minor": 2
}
