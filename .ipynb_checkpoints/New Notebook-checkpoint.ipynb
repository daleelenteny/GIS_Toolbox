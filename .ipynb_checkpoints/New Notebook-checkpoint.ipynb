{
 "cells": [
  {
   "cell_type": "code",
   "execution_count": null,
   "metadata": {},
   "outputs": [],
   "source": []
  },
  {
   "cell_type": "code",
   "execution_count": null,
   "metadata": {},
   "outputs": [],
   "source": [
    "def select_feature_by_attribute(feature_class, field, value): \n",
    "    \n",
    "    # Construct SQL \n",
    "    sql = f\"{field} = '{focus_point_name}'\"\n",
    "\n",
    "    # Apply attribute selection \n",
    "    selection, count       = arcpy.management.SelectLayerByAttribute(feature_class, 'NEW_SELECTION', sql)\n",
    "    \n",
    "    return selection "
   ]
  }
 ],
 "metadata": {
  "kernelspec": {
   "display_name": "ArcGISPro",
   "language": "Python",
   "name": "python3"
  },
  "language_info": {
   "file_extension": ".py",
   "name": "python",
   "version": "3"
  }
 },
 "nbformat": 4,
 "nbformat_minor": 2
}
