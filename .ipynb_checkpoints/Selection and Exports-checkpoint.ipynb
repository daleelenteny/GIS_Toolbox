{
 "cells": [
  {
   "cell_type": "code",
   "execution_count": null,
   "metadata": {},
   "outputs": [],
   "source": [
    "'''\n",
    "This cluster of functions allows a user to iterate through a designated field within a feature \n",
    "class, select all features for each unique attribute of that designated field, and export those\n",
    "features as their own feature class to a designated geodatabase. \n",
    "'''"
   ]
  },
  {
   "cell_type": "code",
   "execution_count": 7,
   "metadata": {},
   "outputs": [],
   "source": [
    "'''\n",
    "Parameters\n",
    "'''\n",
    "# The feature class to be iterated through \n",
    "input_path      = \"\"\n",
    "\n",
    "# The designated field \n",
    "attribute_field = \"\"\n",
    "\n",
    "# The output geodatabase \n",
    "gdb             = \"\""
   ]
  },
  {
   "cell_type": "code",
   "execution_count": null,
   "metadata": {},
   "outputs": [],
   "source": [
    "'''\n",
    "This creates a dictionary of feature class names (attribute) and field values.\n",
    "The field values will be used to populate SQL clauses.\n",
    "'''\n",
    "\n",
    "def create_selection_dictionary(input_path, attribute_field): \n",
    "    \n",
    "    # Create selection dictionary\n",
    "    selection_dictionary = {} \n",
    "\n",
    "    # Iterate through feature class to populate dictionary\n",
    "    with arcpy.da.SearchCursor(input_path, [attribute_field]) as cursor: \n",
    "        for row in cursor: \n",
    "\n",
    "            # Identify attribute \n",
    "            attribute = row[0]\n",
    "            attribute_name = attribute.replace(\" \", \"_\")\n",
    "            print(attribute, attribute_name)\n",
    "\n",
    "            # Populate dictionary \n",
    "            selection_dictionary[attribute_name] = attribute\n",
    "        \n",
    "    return selection_dictionary\n",
    "\n",
    "selection_dictionary = create_selection_dictionary(input_path, attribute_field)\n",
    "\n",
    "'''\n",
    "Export through the dictionary \n",
    "'''\n",
    "\n",
    "def export_from_selection_dictionary(selection_dictionary, gdb): \n",
    "    \n",
    "    # Iterate through selection dictionary \n",
    "    for attribute_name, attribute in selection_dictionary.items(): \n",
    "\n",
    "        # Assemble SQL clause \n",
    "        sql = f\"{attribute_field} = '{attribute}'\"\n",
    "\n",
    "        # Define output path \n",
    "        output_path = os.path.join(gdb, attribute_name)\n",
    "\n",
    "        # Export \n",
    "        arcpy.conversion.ExportFeatures(input_path, output_path, sql) \n",
    "    \n",
    "    return gdb \n",
    "\n",
    "'''\n",
    "Combine both functions \n",
    "'''\n",
    "\n",
    "def export_features_by_attribute(input_path, attribute_field, gdb): \n",
    "    \n",
    "    selection_dictionary = create_selection_dictionary(input_path, attribute_field)\n",
    "    gdb                  = export_from_selection_dictionary(selection_dictionary, gdb)\n",
    "    \n",
    "    return gdb "
   ]
  },
  {
   "cell_type": "code",
   "execution_count": null,
   "metadata": {},
   "outputs": [],
   "source": [
    "input_path = r\"C:\\DALE\\Personal\\Minnesota\\MyProject\\Import Data\\trans_state_trails_minnesota.gdb\\state_trails_minnesota\"\n",
    "gdb        = r\"C:\\DALE\\Personal\\Minnesota\\MyProject\\State Trails.gdb\""
   ]
  },
  {
   "cell_type": "code",
   "execution_count": 8,
   "metadata": {},
   "outputs": [
    {
     "ename": "RuntimeError",
     "evalue": "cannot open ''",
     "output_type": "error",
     "traceback": [
      "\u001b[0;31m---------------------------------------------------------------------------\u001b[0m\n\u001b[0;31mRuntimeError\u001b[0m                              Traceback (most recent call last)",
      "In  \u001b[0;34m[8]\u001b[0m:\nLine \u001b[0;34m1\u001b[0m:     \u001b[34mwith\u001b[39;49;00m arcpy.da.SearchCursor(input_path, [attribute_field]) \u001b[34mas\u001b[39;49;00m cursor: \u001b[37m\u001b[39;49;00m\n",
      "\u001b[0;31mRuntimeError\u001b[0m: cannot open ''\n\u001b[0;31m---------------------------------------------------------------------------\u001b[0m"
     ]
    }
   ],
   "source": [
    "with arcpy.da.SearchCursor(input_path, [attribute_field]) as cursor: \n",
    "    for row in cursor: \n",
    "        print(row[0])"
   ]
  }
 ],
 "metadata": {
  "kernelspec": {
   "display_name": "ArcGISPro",
   "language": "Python",
   "name": "python3"
  },
  "language_info": {
   "file_extension": ".py",
   "name": "python",
   "version": "3"
  }
 },
 "nbformat": 4,
 "nbformat_minor": 2
}
